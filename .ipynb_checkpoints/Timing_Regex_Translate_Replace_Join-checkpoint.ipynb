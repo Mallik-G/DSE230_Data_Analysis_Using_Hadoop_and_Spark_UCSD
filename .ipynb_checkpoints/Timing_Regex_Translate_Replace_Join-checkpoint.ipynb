{
 "cells": [
  {
   "cell_type": "code",
   "execution_count": 2,
   "metadata": {
    "collapsed": false
   },
   "outputs": [
    {
     "name": "stdout",
     "output_type": "stream",
     "text": [
      "sets      : 7.02706408501\n",
      "regex     : 5.52865290642\n",
      "translate : 0.493397951126\n",
      "replace   : 8.52715301514\n"
     ]
    }
   ],
   "source": [
    "def test_trans(s):\n",
    "    return s.translate(table, string.punctuation)\n",
    "\n",
    "import re, string, timeit\n",
    "\n",
    "s = \"Lama's eat...,,, lama things; they ^$&#like,,,,,,,....../////\"\n",
    "exclude = set(string.punctuation)\n",
    "table = string.maketrans(\"\",\"\")\n",
    "regex = re.compile('[%s]' % re.escape(string.punctuation))\n",
    "\n",
    "def test_set(s):\n",
    "    return ''.join(ch for ch in s if ch not in exclude)\n",
    "\n",
    "def test_re(s):  \n",
    "    return regex.sub('', s)\n",
    "\n",
    "def test_trans(s):\n",
    "    return s.translate(None, string.punctuation)\n",
    "\n",
    "def test_repl(s):\n",
    "    for c in string.punctuation:\n",
    "        s=s.replace(c,\"\")\n",
    "    return s\n",
    "\n",
    "#best 0.423137187958\n",
    "print \"sets      :\",timeit.Timer('f(s)', 'from __main__ import s,test_set as f').timeit(1000000)\n",
    "print \"regex     :\",timeit.Timer('f(s)', 'from __main__ import s,test_re as f').timeit(1000000)\n",
    "print \"translate :\",timeit.Timer('f(s)', 'from __main__ import s,test_trans as f').timeit(1000000)\n",
    "print \"replace   :\",timeit.Timer('f(s)', 'from __main__ import s,test_repl as f').timeit(1000000)"
   ]
  },
  {
   "cell_type": "code",
   "execution_count": null,
   "metadata": {
    "collapsed": true
   },
   "outputs": [],
   "source": []
  }
 ],
 "metadata": {
  "kernelspec": {
   "display_name": "Python 2",
   "language": "python",
   "name": "python2"
  },
  "language_info": {
   "codemirror_mode": {
    "name": "ipython",
    "version": 2
   },
   "file_extension": ".py",
   "mimetype": "text/x-python",
   "name": "python",
   "nbconvert_exporter": "python",
   "pygments_lexer": "ipython2",
   "version": "2.7.11"
  }
 },
 "nbformat": 4,
 "nbformat_minor": 0
}
