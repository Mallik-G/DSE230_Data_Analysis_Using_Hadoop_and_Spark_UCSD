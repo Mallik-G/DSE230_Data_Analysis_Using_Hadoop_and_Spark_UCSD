{
 "cells": [
  {
   "cell_type": "code",
   "execution_count": 1,
   "metadata": {
    "collapsed": true
   },
   "outputs": [],
   "source": [
    "fileA = sc.textFile(\"join1_FileA.txt\")"
   ]
  },
  {
   "cell_type": "markdown",
   "metadata": {},
   "source": [
    "Make sure the file content is correct"
   ]
  },
  {
   "cell_type": "code",
   "execution_count": 2,
   "metadata": {
    "collapsed": false
   },
   "outputs": [
    {
     "data": {
      "text/plain": [
       "[u'able,991', u'about,11', u'burger,15', u'actor,22']"
      ]
     },
     "execution_count": 2,
     "metadata": {},
     "output_type": "execute_result"
    }
   ],
   "source": [
    "fileA.collect()"
   ]
  },
  {
   "cell_type": "code",
   "execution_count": 5,
   "metadata": {
    "collapsed": true
   },
   "outputs": [],
   "source": [
    "fileB = sc.textFile(\"join1_FileB.txt\")"
   ]
  },
  {
   "cell_type": "code",
   "execution_count": 6,
   "metadata": {
    "collapsed": false
   },
   "outputs": [
    {
     "data": {
      "text/plain": [
       "[u'Jan-01 able,5',\n",
       " u'Feb-02 about,3',\n",
       " u'Mar-03 about,8',\n",
       " u'Apr-04 able,13',\n",
       " u'Feb-22 actor,3',\n",
       " u'Feb-23 burger,5',\n",
       " u'Mar-08 burger,2',\n",
       " u'Dec-15 able,100']"
      ]
     },
     "execution_count": 6,
     "metadata": {},
     "output_type": "execute_result"
    }
   ],
   "source": [
    "fileB.collect()"
   ]
  },
  {
   "cell_type": "markdown",
   "metadata": {},
   "source": [
    "## Mapper for fileA"
   ]
  },
  {
   "cell_type": "code",
   "execution_count": 14,
   "metadata": {
    "collapsed": true
   },
   "outputs": [],
   "source": [
    "def split_fileA(line):\n",
    "    word, count = line.strip().split(',')\n",
    "    return (word, int(count))"
   ]
  },
  {
   "cell_type": "code",
   "execution_count": 15,
   "metadata": {
    "collapsed": false
   },
   "outputs": [
    {
     "data": {
      "text/plain": [
       "('able', 991)"
      ]
     },
     "execution_count": 15,
     "metadata": {},
     "output_type": "execute_result"
    }
   ],
   "source": [
    "line = \"able,991\"\n",
    "split_fileA(line)"
   ]
  },
  {
   "cell_type": "code",
   "execution_count": 16,
   "metadata": {
    "collapsed": true
   },
   "outputs": [],
   "source": [
    "fileA_data = fileA.map(split_fileA)"
   ]
  },
  {
   "cell_type": "code",
   "execution_count": 17,
   "metadata": {
    "collapsed": false
   },
   "outputs": [
    {
     "data": {
      "text/plain": [
       "[(u'able', 991), (u'about', 11), (u'burger', 15), (u'actor', 22)]"
      ]
     },
     "execution_count": 17,
     "metadata": {},
     "output_type": "execute_result"
    }
   ],
   "source": [
    "fileA_data.collect()"
   ]
  },
  {
   "cell_type": "markdown",
   "metadata": {},
   "source": [
    "## Mapper for fileB"
   ]
  },
  {
   "cell_type": "code",
   "execution_count": 18,
   "metadata": {
    "collapsed": true
   },
   "outputs": [],
   "source": [
    "def split_fileB(line):\n",
    "    # split the input line into word, date and count_string\n",
    "    date, word, count = line.replace(' ',',').split(',')\n",
    "    return (word, date + \" \" + count) "
   ]
  },
  {
   "cell_type": "code",
   "execution_count": 21,
   "metadata": {
    "collapsed": false
   },
   "outputs": [],
   "source": [
    "fileB_data = fileB.map(split_fileB)"
   ]
  },
  {
   "cell_type": "code",
   "execution_count": 22,
   "metadata": {
    "collapsed": false
   },
   "outputs": [
    {
     "data": {
      "text/plain": [
       "[(u'able', u'Jan-01 5'),\n",
       " (u'about', u'Feb-02 3'),\n",
       " (u'about', u'Mar-03 8'),\n",
       " (u'able', u'Apr-04 13'),\n",
       " (u'actor', u'Feb-22 3'),\n",
       " (u'burger', u'Feb-23 5'),\n",
       " (u'burger', u'Mar-08 2'),\n",
       " (u'able', u'Dec-15 100')]"
      ]
     },
     "execution_count": 22,
     "metadata": {},
     "output_type": "execute_result"
    }
   ],
   "source": [
    "fileB_data.collect()"
   ]
  },
  {
   "cell_type": "markdown",
   "metadata": {},
   "source": [
    "## Run Join"
   ]
  },
  {
   "cell_type": "code",
   "execution_count": 23,
   "metadata": {
    "collapsed": true
   },
   "outputs": [],
   "source": [
    "fileB_joined_fileA = fileB_data.join(fileA_data)"
   ]
  },
  {
   "cell_type": "code",
   "execution_count": 24,
   "metadata": {
    "collapsed": false
   },
   "outputs": [
    {
     "data": {
      "text/plain": [
       "[(u'able', (u'Jan-01 5', 991)),\n",
       " (u'able', (u'Apr-04 13', 991)),\n",
       " (u'able', (u'Dec-15 100', 991)),\n",
       " (u'burger', (u'Feb-23 5', 15)),\n",
       " (u'burger', (u'Mar-08 2', 15)),\n",
       " (u'about', (u'Feb-02 3', 11)),\n",
       " (u'about', (u'Mar-03 8', 11)),\n",
       " (u'actor', (u'Feb-22 3', 22))]"
      ]
     },
     "execution_count": 24,
     "metadata": {},
     "output_type": "execute_result"
    }
   ],
   "source": [
    "fileB_joined_fileA.collect()"
   ]
  },
  {
   "cell_type": "code",
   "execution_count": null,
   "metadata": {
    "collapsed": true
   },
   "outputs": [],
   "source": []
  }
 ],
 "metadata": {
  "kernelspec": {
   "display_name": "Python 2",
   "language": "python",
   "name": "python2"
  },
  "language_info": {
   "codemirror_mode": {
    "name": "ipython",
    "version": 2
   },
   "file_extension": ".py",
   "mimetype": "text/x-python",
   "name": "python",
   "nbconvert_exporter": "python",
   "pygments_lexer": "ipython2",
   "version": "2.7.11"
  }
 },
 "nbformat": 4,
 "nbformat_minor": 0
}
