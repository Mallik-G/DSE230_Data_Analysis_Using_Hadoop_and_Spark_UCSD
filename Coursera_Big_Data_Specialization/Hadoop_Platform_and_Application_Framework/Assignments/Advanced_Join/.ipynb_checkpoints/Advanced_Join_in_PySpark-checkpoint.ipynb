{
 "cells": [
  {
   "cell_type": "markdown",
   "metadata": {},
   "source": [
    "# Advanced Join in Spark"
   ]
  },
  {
   "cell_type": "code",
   "execution_count": 4,
   "metadata": {
    "collapsed": false
   },
   "outputs": [
    {
     "data": {
      "text/plain": [
       "[u'Hourly_Sports,21', u'PostModern_Show,38']"
      ]
     },
     "execution_count": 4,
     "metadata": {},
     "output_type": "execute_result"
    }
   ],
   "source": [
    "# show and views making of RDD\n",
    "show_views_file = sc.textFile('advancedjoinspark_data/join2_gennum?.txt')\n",
    "show_views_file.take(1)"
   ]
  },
  {
   "cell_type": "code",
   "execution_count": 9,
   "metadata": {
    "collapsed": false
   },
   "outputs": [
    {
     "data": {
      "text/plain": [
       "[u'Hourly_Sports,DEF']"
      ]
     },
     "execution_count": 9,
     "metadata": {},
     "output_type": "execute_result"
    }
   ],
   "source": [
    "# show and channel \n",
    "show_channel_file = sc.textFile('advancedjoinspark_data/join2_genchan?.txt')\n",
    "show_channel_file.take(1)"
   ]
  },
  {
   "cell_type": "code",
   "execution_count": 8,
   "metadata": {
    "collapsed": false
   },
   "outputs": [
    {
     "data": {
      "text/plain": [
       "('Hourly_Sports', 21)"
      ]
     },
     "execution_count": 8,
     "metadata": {},
     "output_type": "execute_result"
    }
   ],
   "source": [
    "def split_show_views(line):\n",
    "    show, views = line.strip().split(',')\n",
    "    return (show, int(views))\n",
    "\n",
    "split_show_views('Hourly_Sports,21')"
   ]
  },
  {
   "cell_type": "code",
   "execution_count": 11,
   "metadata": {
    "collapsed": false
   },
   "outputs": [
    {
     "data": {
      "text/plain": [
       "('Hourly_Sports', 'DEF')"
      ]
     },
     "execution_count": 11,
     "metadata": {},
     "output_type": "execute_result"
    }
   ],
   "source": [
    "def split_show_channel(line):\n",
    "    show, channel = line.strip().split(',')\n",
    "    return (show, channel)\n",
    "\n",
    "split_show_channel('Hourly_Sports,DEF')"
   ]
  },
  {
   "cell_type": "code",
   "execution_count": 21,
   "metadata": {
    "collapsed": false
   },
   "outputs": [
    {
     "data": {
      "text/plain": [
       "[(u'PostModern_Cooking', (1038, u'DEF')),\n",
       " (u'PostModern_Cooking', (1038, u'CNO')),\n",
       " (u'PostModern_Cooking', (1038, u'CNO')),\n",
       " (u'PostModern_Cooking', (1038, u'NOX')),\n",
       " (u'PostModern_Cooking', (1038, u'MAN'))]"
      ]
     },
     "execution_count": 21,
     "metadata": {},
     "output_type": "execute_result"
    }
   ],
   "source": [
    "show_views_tuple = show_views_file.map(split_show_views)\n",
    "show_channel_tuple = show_channel_file.map(split_show_channel)\n",
    "show_views_tuple.join(show_channel_tuple).take(5)"
   ]
  },
  {
   "cell_type": "code",
   "execution_count": 22,
   "metadata": {
    "collapsed": true
   },
   "outputs": [],
   "source": [
    "joined_dataset = show_views_tuple.join(show_channel_tuple)\n"
   ]
  },
  {
   "cell_type": "markdown",
   "metadata": {},
   "source": [
    "## Extract Channel as Key"
   ]
  },
  {
   "cell_type": "code",
   "execution_count": 23,
   "metadata": {
    "collapsed": true
   },
   "outputs": [],
   "source": [
    "def extract_channel_views(show_views_channel): \n",
    "    views ,channel = show_views_channel[1][:]\n",
    "    return (channel, views)"
   ]
  },
  {
   "cell_type": "code",
   "execution_count": 28,
   "metadata": {
    "collapsed": false
   },
   "outputs": [],
   "source": [
    "channel_views = joined_dataset.map(extract_channel_views)"
   ]
  },
  {
   "cell_type": "code",
   "execution_count": 26,
   "metadata": {
    "collapsed": true
   },
   "outputs": [],
   "source": [
    "def summation(a, b):\n",
    "    fina1_tuple\n",
    "    return final_tuple"
   ]
  },
  {
   "cell_type": "code",
   "execution_count": 29,
   "metadata": {
    "collapsed": false
   },
   "outputs": [
    {
     "data": {
      "text/plain": [
       "[(u'XYZ', 5208016),\n",
       " (u'DEF', 8032799),\n",
       " (u'CNO', 3941177),\n",
       " (u'BAT', 5099141),\n",
       " (u'NOX', 2583583)]"
      ]
     },
     "execution_count": 29,
     "metadata": {},
     "output_type": "execute_result"
    }
   ],
   "source": [
    "channel_views.reduceByKey(lambda x,y: x+y).take(5)"
   ]
  },
  {
   "cell_type": "code",
   "execution_count": null,
   "metadata": {
    "collapsed": true
   },
   "outputs": [],
   "source": []
  }
 ],
 "metadata": {
  "kernelspec": {
   "display_name": "Python 2",
   "language": "python",
   "name": "python2"
  },
  "language_info": {
   "codemirror_mode": {
    "name": "ipython",
    "version": 2
   },
   "file_extension": ".py",
   "mimetype": "text/x-python",
   "name": "python",
   "nbconvert_exporter": "python",
   "pygments_lexer": "ipython2",
   "version": "2.7.11"
  }
 },
 "nbformat": 4,
 "nbformat_minor": 0
}
